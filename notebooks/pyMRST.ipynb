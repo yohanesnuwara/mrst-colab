{
  "nbformat": 4,
  "nbformat_minor": 0,
  "metadata": {
    "colab": {
      "name": "pyMRST.ipynb",
      "provenance": [],
      "collapsed_sections": [
        "jQLR7ptQlujB"
      ],
      "toc_visible": true,
      "authorship_tag": "ABX9TyPpSq9NSN2XhviuN50layze",
      "include_colab_link": true
    },
    "kernelspec": {
      "display_name": "Python 3",
      "name": "python3"
    }
  },
  "cells": [
    {
      "cell_type": "markdown",
      "metadata": {
        "id": "view-in-github",
        "colab_type": "text"
      },
      "source": [
        "<a href=\"https://colab.research.google.com/github/yohanesnuwara/pyMRST/blob/main/notebooks/pyMRST.ipynb\" target=\"_parent\"><img src=\"https://colab.research.google.com/assets/colab-badge.svg\" alt=\"Open In Colab\"/></a>"
      ]
    },
    {
      "cell_type": "code",
      "metadata": {
        "colab": {
          "base_uri": "https://localhost:8080/"
        },
        "id": "O3_fpJXZ8d0G",
        "outputId": "8e958cdb-4d7f-4b39-f024-673568aebadb"
      },
      "source": [
        "# Clone pyMRST\r\n",
        "!git clone https://github.com/yohanesnuwara/pyMRST"
      ],
      "execution_count": 1,
      "outputs": [
        {
          "output_type": "stream",
          "text": [
            "Cloning into 'pyMRST'...\n",
            "remote: Enumerating objects: 69, done.\u001b[K\n",
            "remote: Counting objects: 100% (69/69), done.\u001b[K\n",
            "remote: Compressing objects: 100% (69/69), done.\u001b[K\n",
            "remote: Total 201 (delta 38), reused 0 (delta 0), pack-reused 132\u001b[K\n",
            "Receiving objects: 100% (201/201), 161.10 KiB | 1.25 MiB/s, done.\n",
            "Resolving deltas: 100% (84/84), done.\n"
          ],
          "name": "stdout"
        }
      ]
    },
    {
      "cell_type": "code",
      "metadata": {
        "id": "rqfpKzMp8zZk"
      },
      "source": [
        "import numpy as np\r\n",
        "import matplotlib.pyplot as plt\r\n",
        "\r\n",
        "# Add directory where you install PyMRST\r\n",
        "import sys\r\n",
        "sys.path.append(\"/content/pyMRST\") \r\n",
        "\r\n",
        "import pymrst\r\n",
        "from pymrst_units import *"
      ],
      "execution_count": 2,
      "outputs": []
    },
    {
      "cell_type": "code",
      "metadata": {
        "id": "1OIu4smY9jqx"
      },
      "source": [
        "# Setup PyMRST (Takes about 3 minutes)\r\n",
        "pymrst.setup()"
      ],
      "execution_count": 3,
      "outputs": []
    },
    {
      "cell_type": "markdown",
      "metadata": {
        "id": "jQLR7ptQlujB"
      },
      "source": [
        "## Functions"
      ]
    },
    {
      "cell_type": "code",
      "metadata": {
        "id": "VWSxxwiUlp75"
      },
      "source": [
        "def write_input(nx, ny, nz, lx, ly, lz, poro, k, rock, fluid, well, \r\n",
        "                bc_front, bc_back, bc_left, bc_right, \r\n",
        "                numSteps=None, totTime=None, steps=None):\r\n",
        "  \"\"\"\r\n",
        "  Convert inputs given in Python to write a MATLAB program that executes\r\n",
        "  reservoir geometry, rock property, fluid, boundary condition creation \r\n",
        "  \"\"\"\r\n",
        "  input = \"addpath /content/pyMRST \\n\"\r\n",
        "  input += \"addpaths\\n\\n\"\r\n",
        "\r\n",
        "  # # Timestep\r\n",
        "  # input += \"# Timestep\\n\"\r\n",
        "  # input += \"[numSteps, totTime] = deal({}, {}*day); \\n\".format(numSteps, totTime)\r\n",
        "  # input += \"steps = {}; \\n\\n\".format(steps)\r\n",
        "\r\n",
        "  # Reservoir geometry\r\n",
        "  input += \"# Reservoir geometry\\n\"\r\n",
        "  input += \"[nx,ny,nz] = deal({}, {}, {});\\n\".format(nx, ny, nz)\r\n",
        "  input += \"[lx,ly,lz] = deal({}, {}, {});\\n\".format(lx, ly, lz)\r\n",
        "  input += \"G = cartGrid([nx ny nz],[lx ly lz]);\\n\"\r\n",
        "  input += \"G = computeGeometry(G);\\n\\n\"\r\n",
        "\r\n",
        "  # Porosity \r\n",
        "  input += \"# Porosity \\n\"\r\n",
        "  if poro[\"type\"]==\"heterogeneous\":\r\n",
        "    if poro[\"field\"]==\"gaussian\":\r\n",
        "      input += \"p = gaussianField(G.cartDims, [{} {}], [5 3 1], {});\\n\\n\".format(poro[\"min\"], poro[\"max\"], poro[\"std\"])\r\n",
        "\r\n",
        "  # Permeability \r\n",
        "  input += \"# Permeability \\n\"\r\n",
        "  if k[\"type\"]==\"heterogeneous\":\r\n",
        "    if k[\"field\"]==\"kozeny\":\r\n",
        "      input += \"K = p.^3.*(1e-5)^2./(0.81*72*(1-p).^2); \\n\\n\"\r\n",
        "\r\n",
        "  # Make rock\r\n",
        "  input += \"# Make rock\\n\"\r\n",
        "  input +=  \"rock = makeRock(G, K(:), p(:)); \\n\\n\"\r\n",
        "\r\n",
        "  # Rock PV calculation\r\n",
        "  input += \"# Rock PV \\n\"\r\n",
        "  if fluid[\"type\"]==\"oil\": # Slightly compressible simulation\r\n",
        "    input += \"cr = {}; \\n\".format(rock[\"c\"])\r\n",
        "    input += \"p_r = {}; \\n\".format(rock[\"p_r\"])\r\n",
        "    input += \"pv_r = poreVolume(G, rock); \\n\"\r\n",
        "    input += \"pv = @(p) pv_r .* exp( cr * (p - p_r) ); \\n\\n\" \r\n",
        "\r\n",
        "  # Boundary conditions\r\n",
        "  input += \"# Boundary conditions \\n\"\r\n",
        "  input += \"bc = [];\\n\"\r\n",
        "\r\n",
        "  bc_loc = [\"'FRONT'\", \"'BACK'\", \"'LEFT'\", \"'RIGHT'\"]\r\n",
        "  bc_type = [bc_front[\"type\"], bc_back[\"type\"], bc_left[\"type\"], bc_right[\"type\"]]\r\n",
        "  bc_val = [bc_front[\"value\"], bc_back[\"value\"], bc_left[\"value\"], bc_right[\"value\"]]\r\n",
        "\r\n",
        "  for i in range(len(bc_type)):\r\n",
        "    if i==0:\r\n",
        "      # First boundary condition, bc=[]\r\n",
        "      if bc_type[i]==\"fluxside\":\r\n",
        "        input += \"bc = fluxside([], G, {}, {});\\n\".format(bc_loc[i], bc_val[i])\r\n",
        "      if bc_type[i]==\"pside\":\r\n",
        "        input += \"bc = pside([], G, {}, {});\\n\".format(bc_loc[i], bc_val[i])\r\n",
        "    if i>0:\r\n",
        "      if bc_type[i]==\"fluxside\":\r\n",
        "        input += \"bc = fluxside(bc, G, {}, {});\\n\".format(bc_loc[i], bc_val[i])\r\n",
        "      if bc_type[i]==\"pside\":\r\n",
        "        input += \"bc = pside(bc, G, {}, {});\\n\".format(bc_loc[i], bc_val[i])      \r\n",
        "  input += \"\\n\"\r\n",
        "\r\n",
        "  # Fluid\r\n",
        "  # If a string, so single-phase (numphase=1)\r\n",
        "  if type(fluid[\"type\"])==str:\r\n",
        "    input += \"# Fluid is {}\\n\".format(fluid[\"type\"])\r\n",
        "    # Single phase\r\n",
        "    if fluid[\"type\"]==\"water\":\r\n",
        "      input += \"fluid     = initSingleFluid('mu', {}, 'rho', {});\\n\\n\".format(fluid[\"mu\"], fluid[\"rho\"])\r\n",
        "    if fluid[\"type\"]==\"oil\":\r\n",
        "      input += \"mu = {}; \\n\".format(fluid[\"mu\"])\r\n",
        "      input += \"c = {}; \\n\".format(fluid[\"c\"])\r\n",
        "      input += \"rho_r = {}; \\n\".format(fluid[\"rho_r\"])\r\n",
        "      input += \"rhoS = {}; \\n\".format(fluid[\"rhoS\"])\r\n",
        "      input += \"rho = @(p) rho_r .* exp( c * (p - p_r) );\\n\\n\"\r\n",
        "      ## Timestep\r\n",
        "      input += \"# Timestep\\n\"\r\n",
        "      input += \"[numSteps, totTime] = deal({}, {}*day); \\n\".format(numSteps, totTime)\r\n",
        "      input += \"steps = {}; \\n\\n\".format(steps)      \r\n",
        "\r\n",
        "    if fluid[\"type\"]==\"gas\":\r\n",
        "      input += \"mu = @(p) {}*(1+{}*(p-{})); \\n\".format(fluid[\"mu0\"], fluid[\"c_mu\"], fluid[\"p_r\"])\r\n",
        "      input += \"@(p) {} .* exp( {} * (p - {}) );\\n\\n\".format(fluid[\"rho_r\"], fluid[\"c\"], fluid[\"p_r\"])\r\n",
        "      ## Timestep\r\n",
        "      input += \"# Timestep\\n\"\r\n",
        "      input += \"[numSteps, totTime] = deal({}, {}*day); \\n\".format(numSteps, totTime)\r\n",
        "      input += \"steps = {}; \\n\\n\".format(steps)  \r\n",
        "\r\n",
        "  else:\r\n",
        "    if len(fluid[\"type\"])==2:\r\n",
        "      # Two-phase\r\n",
        "      print(\"no\")\r\n",
        "\r\n",
        "  # Well\r\n",
        "  input += \"# Well\\n\"\r\n",
        "  if type(fluid[\"type\"])==str:\r\n",
        "    # Single-phase. Well doesn't have phase\r\n",
        "    for i in range(len(well[\"type\"])):\r\n",
        "      well_loc = well[\"cell_loc\"][i]\r\n",
        "      well_type = well[\"type\"][i]\r\n",
        "      well_value = well[\"value\"][i]\r\n",
        "      well_radius = well[\"radius\"][i]\r\n",
        "      well_skin = well[\"skin\"][i]\r\n",
        "      well_direction = well[\"direction\"][i]\r\n",
        "\r\n",
        "      # Well locations convert to list to avoid breaking into new line\r\n",
        "      input += \"well_loc = {};\".format(list(well_loc))  \r\n",
        "      input += \"\\n\"\r\n",
        "\r\n",
        "      if well_type==\"bhp\":\r\n",
        "        input += \"pwf = {}; \\n\".format(well_value)      \r\n",
        "\r\n",
        "      if i==0:\r\n",
        "        # First well\r\n",
        "        well_number = \"[]\"\r\n",
        "      if i>0:\r\n",
        "        # The next wells\r\n",
        "        well_number = \"W\"\r\n",
        "\r\n",
        "      if well_direction==\"y\":\r\n",
        "        # Well is horizontal to y\r\n",
        "        input += \"W = addWell({}, G, rock, well_loc, 'Type', '{}', 'InnerProduct', 'ip_tpf', 'Val', {}, 'Radius', {}, 'Dir', 'y');\\n\\n\".format(well_number, well_type, well_value, well_radius)\r\n",
        "      elif well_direction==\"x\":\r\n",
        "        # Well is horizontal to x\r\n",
        "        input += \"W = addWell({}, G, rock, well_loc, 'Type', '{}', 'InnerProduct', 'ip_tpf', 'Val', {}, 'Radius', {}, 'Dir', 'x');\\n\\n\".format(well_number, well_type, well_value, well_radius)      \r\n",
        "      else:\r\n",
        "        # Well is vertical\r\n",
        "        input += \"W = addWell({}, G, rock, well_loc, 'Type', '{}', 'InnerProduct', 'ip_tpf', 'Val', {}, 'Radius', {});\\n\\n\".format(well_number, well_type, well_value, well_radius)\r\n",
        "\r\n",
        "  else:\r\n",
        "    if len(fluid[\"type\"])==2:\r\n",
        "      # Two-phase. Well have phase\r\n",
        "      a=2  \r\n",
        "\r\n",
        "  # print(input)\r\n",
        "\r\n",
        "  # write file instead of %%writefile\r\n",
        "  # input_file = open(\"/content/INPUT.m\", \"w\")\r\n",
        "  input_file = open(\"/content/pyMRST/INPUT.m\", \"w\")\r\n",
        "  input_file.write(input)\r\n",
        "  input_file.close()  "
      ],
      "execution_count": 4,
      "outputs": []
    },
    {
      "cell_type": "markdown",
      "metadata": {
        "id": "V3tk1CLMlqsA"
      },
      "source": [
        "## Incompressible water"
      ]
    },
    {
      "cell_type": "markdown",
      "metadata": {
        "id": "zELV33xSmBBp"
      },
      "source": [
        "### Input"
      ]
    },
    {
      "cell_type": "code",
      "metadata": {
        "id": "xDfyklaGzah1"
      },
      "source": [
        "# Geometry\r\n",
        "nx, ny, nz = 30, 20, 10\r\n",
        "lx, ly, lz = 30, 20, 10\r\n",
        "\r\n",
        "# Reservoir property                                         \r\n",
        "poro = dict({\"type\": \"heterogeneous\", \r\n",
        "             \"field\": \"gaussian\", \r\n",
        "             \"min\": 0.2, \"max\": 0.4, \"std\": 2.5})\r\n",
        "\r\n",
        "k = dict({\"type\": \"heterogeneous\", \r\n",
        "          \"field\": \"kozeny\"})\r\n",
        "\r\n",
        "ntg = dict({\"type\": \"heterogeneous\", \r\n",
        "            \"field\": \"lognorm\", \r\n",
        "            \"min\": 0.4, \"max\": 0.6})\r\n",
        "\r\n",
        "rock = dict({\"c\": 1e-6/barsa(), # Rock compressibility at ref pressure, 1/bar to 1/Pa\r\n",
        "             \"p_r\": 200*barsa()}) # Reference pressure, bar to Pa             \r\n",
        "\r\n",
        "# Fluid property: 1-phase water\r\n",
        "fluid = dict({\"type\": \"water\", \r\n",
        "              \"mu\": 1*centi()*poise(), # cp to Pa.s \r\n",
        "              \"rho\": 1014})\r\n",
        "\r\n",
        "# Boundary \r\n",
        "bc_front = dict({\"type\": \"fluxside\", \"value\": 50*stb()/day()}) # bbl/d to m3/s\r\n",
        "bc_back = dict({\"type\": \"fluxside\", \"value\": 0})\r\n",
        "bc_left = dict({\"type\": \"fluxside\", \"value\": 100/day()}) # m3/d to m3/s\r\n",
        "bc_right = dict({\"type\": \"pside\", \"value\": 100*barsa()}) # bar to Pa\r\n",
        "\r\n",
        "# Well\r\n",
        "cell_loc1 = np.arange(10+60, nx*ny*nz, nx*ny)\r\n",
        "cell_loc2 = np.arange(nx, nx*ny, ny)\r\n",
        "\r\n",
        "# well = dict({\"cell_loc\": [cell_loc1, cell_loc2], \r\n",
        "#              \"type\": [\"rate\", \"bhp\"], \r\n",
        "#              \"value\": [(-10*stb()/day()), (110*barsa())], # bbl/d to m3/s, bar to Pa \r\n",
        "#              \"radius\": [.1, .1],\r\n",
        "#              \"skin\": [0, 0], \r\n",
        "#              \"direction\": [None, \"y\"],\r\n",
        "#              \"phase\": [[1,0], [0,1]]}) # Phase  \r\n",
        "\r\n",
        "# well = dict({\"cell_loc\": [cell_loc1], \r\n",
        "#              \"type\": [\"rate\"], \r\n",
        "#              \"value\": [(-10*stb()/day())], # bbl/d to m3/s, bar to Pa \r\n",
        "#              \"radius\": [.1],\r\n",
        "#              \"skin\": [0], \r\n",
        "#              \"direction\": [None]})  \r\n",
        "\r\n",
        "well = dict({\"cell_loc\": [cell_loc1], \r\n",
        "             \"type\": [\"bhp\"], \r\n",
        "             \"value\": [100*1e5], # bbl/d to m3/s, bar to Pa \r\n",
        "             \"radius\": [.1],\r\n",
        "             \"skin\": [0], \r\n",
        "             \"direction\": [None]})  \r\n",
        "\r\n",
        "# Execute function\r\n",
        "write_input(nx, ny, nz, lx, ly, lz, poro, k, rock, fluid, well, \r\n",
        "            bc_front, bc_back, bc_left, bc_right)"
      ],
      "execution_count": 14,
      "outputs": []
    },
    {
      "cell_type": "markdown",
      "metadata": {
        "id": "sHCR7CiJpOjL"
      },
      "source": [
        "### Execute "
      ]
    },
    {
      "cell_type": "code",
      "metadata": {
        "id": "7oTcYO1zJs1V"
      },
      "source": [
        "def water_1phase(nx, ny, nz, lx, ly, lz, poro, k, fluid, well, \r\n",
        "                 bc_front, bc_back, bc_left, bc_right):\r\n",
        "  \"\"\"\r\n",
        "  MRST Incompressible Water Simulation\r\n",
        "  \"\"\"\r\n",
        "  import oct2py as op\r\n",
        "  # Execute writing MATLAB input program from given inputs\r\n",
        "  # After executed, new .m file is created: INPUT.m\r\n",
        "  write_input(nx, ny, nz, lx, ly, lz, poro, k, rock, fluid, well, \r\n",
        "              bc_front, bc_back, bc_left, bc_right)\r\n",
        "  \r\n",
        "  # Execute simulation program \"water_1phase.m\"\r\n",
        "  # After executed, new .mat files (that contains PRESSURE, PORO, PERM result)\r\n",
        "  # is created inside new directory \"result_water_1phase\"\r\n",
        "  # !octave -W /content/pyMRST/water_1phase.m\r\n",
        "  octave = op.Oct2Py()\r\n",
        "  octave.run(\"/content/pyMRST/water_1phase.m\")"
      ],
      "execution_count": 15,
      "outputs": []
    },
    {
      "cell_type": "code",
      "metadata": {
        "colab": {
          "base_uri": "https://localhost:8080/"
        },
        "id": "ryzJRhlhV-G4",
        "outputId": "31df45f6-bcce-4b42-fae8-d8071e880609"
      },
      "source": [
        "# Execute simulator\r\n",
        "# Simulator results are added in new directory \"result_water_1phase\"\r\n",
        "water_1phase(nx, ny, nz, lx, ly, lz, poro, k, fluid, well, \r\n",
        "             bc_front, bc_back, bc_left, bc_right)"
      ],
      "execution_count": 16,
      "outputs": [
        {
          "output_type": "stream",
          "text": [
            "warning: function /content/mrst-core/utils/mex/md5sum.m shadows a core library function\n",
            "Computing one-sided transmissibilities...\tElapsed time is 0.00767589 seconds.\n",
            "warning: Inconsistent Number of Phases.  Using 1 Phase (=min([3, 1, 1])).\n",
            "ans = 1\n"
          ],
          "name": "stdout"
        }
      ]
    },
    {
      "cell_type": "markdown",
      "metadata": {
        "id": "guHtPhIMptQl"
      },
      "source": [
        "### Visualization"
      ]
    },
    {
      "cell_type": "code",
      "metadata": {
        "colab": {
          "base_uri": "https://localhost:8080/",
          "height": 562
        },
        "id": "EhpnSQBU1XC0",
        "outputId": "bdd61459-1ed4-4cfa-9cba-46cd00858969"
      },
      "source": [
        "# Plot pressure, porosity, and permeability\r\n",
        "plt.figure(figsize=(12,8))\r\n",
        "\r\n",
        "# Inputs for plotting\r\n",
        "directory = \"/content/result_water_1phase\"\r\n",
        "filename = [\"pressure.mat\", \"poro.mat\", \"perm.mat\"]\r\n",
        "plane, position = \"xy\", 0\r\n",
        "\r\n",
        "# Plot\r\n",
        "titles = [\"Pressure\", \"Porosity\", \"Permeability\"]\r\n",
        "\r\n",
        "for i in range(3):\r\n",
        "  plt.subplot(2,2,i+1)\r\n",
        "  plt.title(\"{} on {} Plane at Slice {}\".format(titles[i], plane, position),\r\n",
        "          size=15, pad=12) \r\n",
        "\r\n",
        "  # Get cell data\r\n",
        "  cube = pymrst.getCellData(directory, filename[i], dimension=(nx,ny,nz))\r\n",
        "\r\n",
        "  # Convert units of pressure and permeability\r\n",
        "  if i==0:\r\n",
        "    # Convert metric (Pa) to field (psia)\r\n",
        "    cube = cube/barsa()  \r\n",
        "  if i==2:\r\n",
        "    # Convert metric (Pa.s) to field (md)\r\n",
        "    cube = cube/(milli()*darcy()) \r\n",
        "\r\n",
        "  # Plot cell data\r\n",
        "  pymrst.plotCellData(cube, plane, position, cmap=\"plasma\")\r\n",
        "\r\n",
        "plt.tight_layout()\r\n",
        "plt.show()"
      ],
      "execution_count": 11,
      "outputs": [
        {
          "output_type": "display_data",
          "data": {
            "image/png": "[encoded data removed]",
            "text/plain": [
              "<Figure size 864x576 with 6 Axes>"
            ]
          },
          "metadata": {
            "tags": [],
            "needs_background": "light"
          }
        }
      ]
    },
    {
      "cell_type": "markdown",
      "metadata": {
        "id": "vq01CeM8oxzf"
      },
      "source": [
        "## Compressible oil simulation"
      ]
    },
    {
      "cell_type": "markdown",
      "metadata": {
        "id": "5YveoAQnq7fJ"
      },
      "source": [
        "### Input"
      ]
    },
    {
      "cell_type": "code",
      "metadata": {
        "id": "ElR0G3Olo0zc"
      },
      "source": [
        "# Geometry\r\n",
        "nx, ny, nz = 30, 20, 10\r\n",
        "lx, ly, lz = 200, 200, 50\r\n",
        "\r\n",
        "# Reservoir property                                         \r\n",
        "poro = dict({\"type\": \"heterogeneous\", \r\n",
        "             \"field\": \"gaussian\", \r\n",
        "             \"min\": 0.2, \"max\": 0.4, \"std\": 2.5})\r\n",
        "\r\n",
        "k = dict({\"type\": \"heterogeneous\", \r\n",
        "          \"field\": \"kozeny\"})\r\n",
        "\r\n",
        "ntg = dict({\"type\": \"heterogeneous\", \r\n",
        "            \"field\": \"lognorm\", \r\n",
        "            \"min\": 0.4, \"max\": 0.6})\r\n",
        "\r\n",
        "# Rock property\r\n",
        "rock = dict({\"c\": 1e-6*(1/1e+5), # Rock compressibility at ref pressure, 1/bar to 1/Pa\r\n",
        "             \"p_r\": 200*1e+5}) # Reference pressure, bar to Pa\r\n",
        "\r\n",
        "# Fluid property: 1-phase oil\r\n",
        "fluid = dict({\"type\": \"oil\", \r\n",
        "              \"mu\": 5 * 0.001, # cp to Pa.s \r\n",
        "              \"rho_r\": 850, # Density at reference pressure\r\n",
        "              \"rhoS\": 750, # Density on the surface\r\n",
        "              \"p_r\": 200 * 1E+5, # Reference pressure, bar to Pa\r\n",
        "              \"c\": 1e-3*(1/1E+5)}) # Fluid compressibility, 1/bar to 1/Pa \r\n",
        "\r\n",
        "# Boundary \r\n",
        "bc_front = dict({\"type\": \"fluxside\", \"value\": 50 * 1.84e-6}) # bbl/d to m3/s\r\n",
        "bc_back = dict({\"type\": \"fluxside\", \"value\": 0})\r\n",
        "bc_left = dict({\"type\": \"fluxside\", \"value\": 100 * 1.1574e-5}) # m3/d to m3/s\r\n",
        "bc_right = dict({\"type\": \"pside\", \"value\": 100 * 1e+5}) # bar to Pa\r\n",
        "\r\n",
        "# Well\r\n",
        "# cell_loc1 = np.concatenate((np.arange(311,381+10,10), np.arange(411,481+10,10),\r\n",
        "#                             np.arange(412,482+10,10), np.arange(312,382+10,10), \r\n",
        "#                             np.array([491,391])))\r\n",
        "\r\n",
        "# well = dict({\"cell_loc\": [cell_loc1],\r\n",
        "#              \"type\": [\"bhp\"],\r\n",
        "#              \"value\": [100*1e5],\r\n",
        "#              \"radius\": [.1],\r\n",
        "#              \"skin\": [0],\r\n",
        "#              \"direction\": [\"y\"]})\r\n",
        "\r\n",
        "cell_loc1 = np.arange(10+60, nx*ny*nz, nx*ny)\r\n",
        "\r\n",
        "well = dict({\"cell_loc\": [cell_loc1], \r\n",
        "             \"type\": [\"bhp\"], \r\n",
        "             \"value\": [100*1e5], # bar to Pa \r\n",
        "             \"radius\": [.1],\r\n",
        "             \"skin\": [0], \r\n",
        "             \"direction\": [None]}) \r\n",
        "\r\n",
        "# Time step\r\n",
        "numSteps, totTime = 52, 365\r\n",
        "steps = [2, 5, 10, 20]\r\n",
        "\r\n",
        "# Execute function\r\n",
        "write_input(nx, ny, nz, lx, ly, lz, poro, k, rock, fluid, well, \r\n",
        "            bc_front, bc_back, bc_left, bc_right, numSteps, totTime, steps)"
      ],
      "execution_count": 5,
      "outputs": []
    },
    {
      "cell_type": "markdown",
      "metadata": {
        "id": "G9aHQ2piwdTr"
      },
      "source": [
        "### Matlab script"
      ]
    },
    {
      "cell_type": "markdown",
      "metadata": {
        "id": "B9K_L2bsyDbD"
      },
      "source": [
        "### Execute"
      ]
    },
    {
      "cell_type": "code",
      "metadata": {
        "id": "LwKby0wWcFoO"
      },
      "source": [
        "def oil_1phase(nx, ny, nz, lx, ly, lz, poro, k, fluid, well, \r\n",
        "               bc_front, bc_back, bc_left, bc_right, \r\n",
        "               numSteps, totTime, steps):\r\n",
        "  \"\"\"\r\n",
        "  MRST Slightly Compressible Oil Simulation (Constant Viscosity over Pressure)\r\n",
        "  \"\"\"\r\n",
        "  import oct2py as op\r\n",
        "  # Execute writing MATLAB input program from given inputs\r\n",
        "  # After executed, new .m file is created: INPUT.m\r\n",
        "  write_input(nx, ny, nz, lx, ly, lz, poro, k, rock, fluid, well, \r\n",
        "              bc_front, bc_back, bc_left, bc_right, numSteps, totTime, steps)\r\n",
        "  \r\n",
        "  # Execute simulation program \"oil_1phase.m\"\r\n",
        "  # After executed, new .mat files (that contains PRESSURE, PORO, PERM result)\r\n",
        "  # is created inside new directory \"result_oil_1phase\"\r\n",
        "  # !octave -W /content/pyMRST/oil_1phase.m\r\n",
        "  octave = op.Oct2Py()\r\n",
        "  octave.run(\"/content/pyMRST/oil_1phase.m\")"
      ],
      "execution_count": 6,
      "outputs": []
    },
    {
      "cell_type": "code",
      "metadata": {
        "colab": {
          "base_uri": "https://localhost:8080/"
        },
        "id": "yA3QfY2ycoZ_",
        "outputId": "3ad29330-e0da-415c-ae08-07bab6bda218"
      },
      "source": [
        "# Execute simulator\r\n",
        "# Simulator results are added in new directory \"result_oil_1phase\"\r\n",
        "oil_1phase(nx, ny, nz, lx, ly, lz, poro, k, fluid, well, \r\n",
        "           bc_front, bc_back, bc_left, bc_right, numSteps, totTime, steps)"
      ],
      "execution_count": 7,
      "outputs": [
        {
          "output_type": "stream",
          "text": [
            "warning: function /content/mrst-core/utils/mex/md5sum.m shadows a core library function\n",
            "\n",
            "Time step 1: Time 0.00 -> 7.02 days\n",
            "  Iteration   1:  Res = 1.0021e+07\n",
            "  Iteration   2:  Res = 2.9707e-02\n",
            "  Iteration   3:  Res = 2.1349e-05\n",
            "  Iteration   4:  Res = 9.1910e-12\n",
            "\n",
            "Time step 2: Time 7.02 -> 14.04 days\n",
            "  Iteration   1:  Res = 1.2139e-01\n",
            "  Iteration   2:  Res = 8.2228e-04\n",
            "  Iteration   3:  Res = 4.7691e-08\n",
            "\n",
            "Time step 3: Time 14.04 -> 21.06 days\n",
            "  Iteration   1:  Res = 7.8036e-02\n",
            "  Iteration   2:  Res = 3.4144e-04\n",
            "  Iteration   3:  Res = 6.8400e-09\n",
            "\n",
            "Time step 4: Time 21.06 -> 28.08 days\n",
            "  Iteration   1:  Res = 6.6593e-02\n",
            "  Iteration   2:  Res = 2.2535e-04\n",
            "  Iteration   3:  Res = 2.4982e-09\n",
            "\n",
            "Time step 5: Time 28.08 -> 35.10 days\n",
            "  Iteration   1:  Res = 6.0507e-02\n",
            "  Iteration   2:  Res = 1.8175e-04\n",
            "  Iteration   3:  Res = 1.5339e-09\n",
            "\n",
            "Time step 6: Time 35.10 -> 42.12 days\n",
            "  Iteration   1:  Res = 5.5813e-02\n",
            "  Iteration   2:  Res = 1.5467e-04\n",
            "  Iteration   3:  Res = 1.1137e-09\n",
            "\n",
            "Time step 7: Time 42.12 -> 49.13 days\n",
            "  Iteration   1:  Res = 5.1671e-02\n",
            "  Iteration   2:  Res = 1.3322e-04\n",
            "  Iteration   3:  Res = 8.3613e-10\n",
            "\n",
            "Time step 8: Time 49.13 -> 56.15 days\n",
            "  Iteration   1:  Res = 4.7880e-02\n",
            "  Iteration   2:  Res = 1.1501e-04\n",
            "  Iteration   3:  Res = 6.2938e-10\n",
            "\n",
            "Time step 9: Time 56.15 -> 63.17 days\n",
            "  Iteration   1:  Res = 4.4379e-02\n",
            "  Iteration   2:  Res = 9.9299e-05\n",
            "  Iteration   3:  Res = 4.7265e-10\n",
            "\n",
            "Time step 10: Time 63.17 -> 70.19 days\n",
            "  Iteration   1:  Res = 4.1137e-02\n",
            "  Iteration   2:  Res = 8.5712e-05\n",
            "  Iteration   3:  Res = 3.5413e-10\n",
            "\n",
            "Time step 11: Time 70.19 -> 77.21 days\n",
            "  Iteration   1:  Res = 3.8134e-02\n",
            "  Iteration   2:  Res = 7.3963e-05\n",
            "  Iteration   3:  Res = 2.6488e-10\n",
            "\n",
            "Time step 12: Time 77.21 -> 84.23 days\n",
            "  Iteration   1:  Res = 3.5352e-02\n",
            "  Iteration   2:  Res = 6.3808e-05\n",
            "  Iteration   3:  Res = 1.9789e-10\n",
            "\n",
            "Time step 13: Time 84.23 -> 91.25 days\n",
            "  Iteration   1:  Res = 3.2774e-02\n",
            "  Iteration   2:  Res = 5.5034e-05\n",
            "  Iteration   3:  Res = 1.4770e-10\n",
            "\n",
            "Time step 14: Time 91.25 -> 98.27 days\n",
            "  Iteration   1:  Res = 3.0384e-02\n",
            "  Iteration   2:  Res = 4.7457e-05\n",
            "  Iteration   3:  Res = 1.1016e-10\n",
            "\n",
            "Time step 15: Time 98.27 -> 105.29 days\n",
            "  Iteration   1:  Res = 2.8170e-02\n",
            "  Iteration   2:  Res = 4.0916e-05\n",
            "  Iteration   3:  Res = 8.2115e-11\n",
            "\n",
            "Time step 16: Time 105.29 -> 112.31 days\n",
            "  Iteration   1:  Res = 2.6118e-02\n",
            "  Iteration   2:  Res = 3.5271e-05\n",
            "  Iteration   3:  Res = 6.1173e-11\n",
            "\n",
            "Time step 17: Time 112.31 -> 119.33 days\n",
            "  Iteration   1:  Res = 2.4215e-02\n",
            "  Iteration   2:  Res = 3.0400e-05\n",
            "  Iteration   3:  Res = 4.5549e-11\n",
            "\n",
            "Time step 18: Time 119.33 -> 126.35 days\n",
            "  Iteration   1:  Res = 2.2452e-02\n",
            "  Iteration   2:  Res = 2.6198e-05\n",
            "  Iteration   3:  Res = 3.3901e-11\n",
            "\n",
            "Time step 19: Time 126.35 -> 133.37 days\n",
            "  Iteration   1:  Res = 2.0818e-02\n",
            "  Iteration   2:  Res = 2.2573e-05\n",
            "  Iteration   3:  Res = 2.5220e-11\n",
            "\n",
            "Time step 20: Time 133.37 -> 140.38 days\n",
            "  Iteration   1:  Res = 1.9302e-02\n",
            "  Iteration   2:  Res = 1.9448e-05\n",
            "  Iteration   3:  Res = 1.8755e-11\n",
            "\n",
            "Time step 21: Time 140.38 -> 147.40 days\n",
            "  Iteration   1:  Res = 1.7898e-02\n",
            "  Iteration   2:  Res = 1.6754e-05\n",
            "  Iteration   3:  Res = 1.3942e-11\n",
            "\n",
            "Time step 22: Time 147.40 -> 154.42 days\n",
            "  Iteration   1:  Res = 1.6596e-02\n",
            "  Iteration   2:  Res = 1.4431e-05\n",
            "  Iteration   3:  Res = 1.0361e-11\n",
            "\n",
            "Time step 23: Time 154.42 -> 161.44 days\n",
            "  Iteration   1:  Res = 1.5389e-02\n",
            "  Iteration   2:  Res = 1.2429e-05\n",
            "  Iteration   3:  Res = 7.6974e-12\n",
            "\n",
            "Time step 24: Time 161.44 -> 168.46 days\n",
            "  Iteration   1:  Res = 1.4270e-02\n",
            "  Iteration   2:  Res = 1.0704e-05\n",
            "  Iteration   3:  Res = 5.7166e-12\n",
            "\n",
            "Time step 25: Time 168.46 -> 175.48 days\n",
            "  Iteration   1:  Res = 1.3232e-02\n",
            "  Iteration   2:  Res = 9.2170e-06\n",
            "\n",
            "Time step 26: Time 175.48 -> 182.50 days\n",
            "  Iteration   1:  Res = 1.2270e-02\n",
            "  Iteration   2:  Res = 7.9363e-06\n",
            "\n",
            "Time step 27: Time 182.50 -> 189.52 days\n",
            "  Iteration   1:  Res = 1.1378e-02\n",
            "  Iteration   2:  Res = 6.8330e-06\n",
            "\n",
            "Time step 28: Time 189.52 -> 196.54 days\n",
            "  Iteration   1:  Res = 1.0551e-02\n",
            "  Iteration   2:  Res = 5.8827e-06\n",
            "\n",
            "Time step 29: Time 196.54 -> 203.56 days\n",
            "  Iteration   1:  Res = 9.7844e-03\n",
            "  Iteration   2:  Res = 5.0642e-06\n",
            "\n",
            "Time step 30: Time 203.56 -> 210.58 days\n",
            "  Iteration   1:  Res = 9.0734e-03\n",
            "  Iteration   2:  Res = 4.3593e-06\n",
            "\n",
            "Time step 31: Time 210.58 -> 217.60 days\n",
            "  Iteration   1:  Res = 8.4142e-03\n",
            "  Iteration   2:  Res = 3.7524e-06\n",
            "\n",
            "Time step 32: Time 217.60 -> 224.62 days\n",
            "  Iteration   1:  Res = 7.8029e-03\n",
            "  Iteration   2:  Res = 3.2298e-06\n",
            "\n",
            "Time step 33: Time 224.62 -> 231.63 days\n",
            "  Iteration   1:  Res = 7.2360e-03\n",
            "  Iteration   2:  Res = 2.7798e-06\n",
            "\n",
            "Time step 34: Time 231.63 -> 238.65 days\n",
            "  Iteration   1:  Res = 6.7104e-03\n",
            "  Iteration   2:  Res = 2.3924e-06\n",
            "\n",
            "Time step 35: Time 238.65 -> 245.67 days\n",
            "  Iteration   1:  Res = 6.2230e-03\n",
            "  Iteration   2:  Res = 2.0589e-06\n",
            "\n",
            "Time step 36: Time 245.67 -> 252.69 days\n",
            "  Iteration   1:  Res = 5.7711e-03\n",
            "  Iteration   2:  Res = 1.7719e-06\n",
            "\n",
            "Time step 37: Time 252.69 -> 259.71 days\n",
            "  Iteration   1:  Res = 5.3520e-03\n",
            "  Iteration   2:  Res = 1.5248e-06\n",
            "\n",
            "Time step 38: Time 259.71 -> 266.73 days\n",
            "  Iteration   1:  Res = 4.9633e-03\n",
            "  Iteration   2:  Res = 1.3121e-06\n",
            "\n",
            "Time step 39: Time 266.73 -> 273.75 days\n",
            "  Iteration   1:  Res = 4.6029e-03\n",
            "  Iteration   2:  Res = 1.1290e-06\n",
            "\n",
            "Time step 40: Time 273.75 -> 280.77 days\n",
            "  Iteration   1:  Res = 4.2687e-03\n",
            "  Iteration   2:  Res = 9.7149e-07\n",
            "\n",
            "Time step 41: Time 280.77 -> 287.79 days\n",
            "  Iteration   1:  Res = 3.9588e-03\n",
            "  Iteration   2:  Res = 8.3591e-07\n",
            "\n",
            "Time step 42: Time 287.79 -> 294.81 days\n",
            "  Iteration   1:  Res = 3.6714e-03\n",
            "  Iteration   2:  Res = 7.1923e-07\n",
            "\n",
            "Time step 43: Time 294.81 -> 301.83 days\n",
            "  Iteration   1:  Res = 3.4048e-03\n",
            "  Iteration   2:  Res = 6.1883e-07\n",
            "\n",
            "Time step 44: Time 301.83 -> 308.85 days\n",
            "  Iteration   1:  Res = 3.1577e-03\n",
            "  Iteration   2:  Res = 5.3243e-07\n",
            "\n",
            "Time step 45: Time 308.85 -> 315.87 days\n",
            "  Iteration   1:  Res = 2.9284e-03\n",
            "  Iteration   2:  Res = 4.5808e-07\n",
            "\n",
            "Time step 46: Time 315.87 -> 322.88 days\n",
            "  Iteration   1:  Res = 2.7159e-03\n",
            "  Iteration   2:  Res = 3.9411e-07\n",
            "\n",
            "Time step 47: Time 322.88 -> 329.90 days\n",
            "  Iteration   1:  Res = 2.5187e-03\n",
            "  Iteration   2:  Res = 3.3906e-07\n",
            "\n",
            "Time step 48: Time 329.90 -> 336.92 days\n",
            "  Iteration   1:  Res = 2.3359e-03\n",
            "  Iteration   2:  Res = 2.9170e-07\n",
            "\n",
            "Time step 49: Time 336.92 -> 343.94 days\n",
            "  Iteration   1:  Res = 2.1663e-03\n",
            "  Iteration   2:  Res = 2.5096e-07\n",
            "\n",
            "Time step 50: Time 343.94 -> 350.96 days\n",
            "  Iteration   1:  Res = 2.0091e-03\n",
            "  Iteration   2:  Res = 2.1590e-07\n",
            "\n",
            "Time step 51: Time 350.96 -> 357.98 days\n",
            "  Iteration   1:  Res = 1.8633e-03\n",
            "  Iteration   2:  Res = 1.8573e-07\n",
            "\n",
            "Time step 52: Time 357.98 -> 365.00 days\n",
            "  Iteration   1:  Res = 1.7280e-03\n",
            "  Iteration   2:  Res = 1.5978e-07\n",
            "ans = 1\n"
          ],
          "name": "stdout"
        }
      ]
    },
    {
      "cell_type": "markdown",
      "metadata": {
        "id": "MufPTZFGyFLo"
      },
      "source": [
        "### Visualization"
      ]
    },
    {
      "cell_type": "code",
      "metadata": {
        "colab": {
          "base_uri": "https://localhost:8080/",
          "height": 573
        },
        "id": "4_1aPl_EGXYV",
        "outputId": "9df9912f-377a-4d73-fbc5-45f246df27cc"
      },
      "source": [
        "# Specify dimension\r\n",
        "dimension = (nx,ny,nz)\r\n",
        "\r\n",
        "# Input for plots\r\n",
        "plane, position = \"xy\", 2\r\n",
        "\r\n",
        "numSteps, totTime = 52, 365 # day\r\n",
        "steps = [2, 5, 10, 20]\r\n",
        "\r\n",
        "# Plot pressure for every timestep\r\n",
        "plt.figure(figsize=(10,8))\r\n",
        "\r\n",
        "for i in range(len(steps)):\r\n",
        "  directory = \"/content/result_oil_1phase/\"\r\n",
        "  filename = \"pressure{}.mat\".format(steps[i])\r\n",
        "\r\n",
        "  # Get cell data \r\n",
        "  cube = pymrst.getCellData(directory, filename, dimension=(nx,ny,nz))\r\n",
        "\r\n",
        "  # Convert to barsa\r\n",
        "  cube = cube/barsa()\r\n",
        "\r\n",
        "  # Plot for every timestep\r\n",
        "  day = totTime / numSteps * steps[i]\r\n",
        "  plt.subplot(2,2,i+1)\r\n",
        "  pymrst.plotCellData(cube, plane, position, cmap=\"plasma\")\r\n",
        "  plt.title(\"Pressure on {} Plane at Slice {} (Day {:.1f})\".format(plane, position, day),\r\n",
        "            size=15, pad=15)  \r\n",
        "\r\n",
        "plt.tight_layout(1.7)\r\n",
        "plt.show()"
      ],
      "execution_count": 12,
      "outputs": [
        {
          "output_type": "display_data",
          "data": {
            "image/png": "[encoded data removed]",
            "text/plain": [
              "<Figure size 720x576 with 8 Axes>"
            ]
          },
          "metadata": {
            "tags": [],
            "needs_background": "light"
          }
        }
      ]
    },
    {
      "cell_type": "code",
      "metadata": {
        "colab": {
          "base_uri": "https://localhost:8080/",
          "height": 295
        },
        "id": "ZILdm_WLE-vq",
        "outputId": "e63da675-ba43-4422-c2d7-a283af6d10a7"
      },
      "source": [
        "from pymrst_units import *\r\n",
        "\r\n",
        "# Plot well solutions\r\n",
        "directory = \"/content/result_oil_1phase/\"\r\n",
        "\r\n",
        "time = pymrst.getWellSol(directory, \"time.mat\") / day() \r\n",
        "qo = pymrst.getWellSol(directory, \"qo.mat\") / (stb()/day())\r\n",
        "Pwf = pymrst.getWellSol(directory, \"Pwf.mat\") / barsa() # convert to barsa\r\n",
        "\r\n",
        "plt.figure(figsize=(10,4))\r\n",
        "\r\n",
        "plt.subplot(1,2,1)\r\n",
        "plt.plot(time, Pwf, \".-\", color=\"purple\")\r\n",
        "plt.grid()\r\n",
        "plt.title(\"Pwf\")\r\n",
        "plt.xlabel(\"Day\"); plt.ylabel(\"Pwf [bar]\")\r\n",
        "plt.xlim(0,365)\r\n",
        "\r\n",
        "plt.subplot(1,2,2)\r\n",
        "plt.step(time, qo, color=\"green\")\r\n",
        "plt.grid()\r\n",
        "plt.title(\"Oil rate\")\r\n",
        "plt.xlabel(\"Day\"); plt.ylabel(\"Qo [STB/D]\")\r\n",
        "plt.xlim(0,365)\r\n",
        "\r\n",
        "plt.show()"
      ],
      "execution_count": 44,
      "outputs": [
        {
          "output_type": "display_data",
          "data": {
            "image/png": "[encoded data removed]",
            "text/plain": [
              "<Figure size 720x288 with 2 Axes>"
            ]
          },
          "metadata": {
            "tags": [],
            "needs_background": "light"
          }
        }
      ]
    }
  ]
}