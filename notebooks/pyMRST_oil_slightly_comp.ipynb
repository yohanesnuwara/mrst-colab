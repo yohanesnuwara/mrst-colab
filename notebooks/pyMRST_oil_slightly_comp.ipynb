{
  "nbformat": 4,
  "nbformat_minor": 0,
  "metadata": {
    "colab": {
      "name": "pyMRST_oil_slightly_comp.ipynb",
      "provenance": [],
      "collapsed_sections": [],
      "authorship_tag": "ABX9TyNgUY15/3eQe+5dUrKCINvE",
      "include_colab_link": true
    },
    "kernelspec": {
      "display_name": "Python 3",
      "name": "python3"
    }
  },
  "cells": [
    {
      "cell_type": "markdown",
      "metadata": {
        "id": "view-in-github",
        "colab_type": "text"
      },
      "source": [
        "<a href=\"https://colab.research.google.com/github/yohanesnuwara/pyMRST/blob/main/notebooks/pyMRST_oil_slightly_comp.ipynb\" target=\"_parent\"><img src=\"https://colab.research.google.com/assets/colab-badge.svg\" alt=\"Open In Colab\"/></a>"
      ]
    },
    {
      "cell_type": "markdown",
      "metadata": {
        "id": "RXXDnZOgYG_Q"
      },
      "source": [
        "# Simulation of Slightly Compressible Oil Reservoir with PyMRST"
      ]
    },
    {
      "cell_type": "code",
      "metadata": {
        "colab": {
          "base_uri": "https://localhost:8080/"
        },
        "id": "O3_fpJXZ8d0G",
        "outputId": "cf88d7e8-7ff3-4b08-87d5-9db058492ac2"
      },
      "source": [
        "# Clone pyMRST\n",
        "!git clone https://github.com/yohanesnuwara/pyMRST"
      ],
      "execution_count": 1,
      "outputs": [
        {
          "output_type": "stream",
          "text": [
            "Cloning into 'pyMRST'...\n",
            "remote: Enumerating objects: 280, done.\u001b[K\n",
            "remote: Counting objects: 100% (148/148), done.\u001b[K\n",
            "remote: Compressing objects: 100% (146/146), done.\u001b[K\n",
            "remote: Total 280 (delta 74), reused 0 (delta 0), pack-reused 132\u001b[K\n",
            "Receiving objects: 100% (280/280), 825.85 KiB | 15.01 MiB/s, done.\n",
            "Resolving deltas: 100% (120/120), done.\n"
          ],
          "name": "stdout"
        }
      ]
    },
    {
      "cell_type": "code",
      "metadata": {
        "id": "rqfpKzMp8zZk"
      },
      "source": [
        "import numpy as np\n",
        "import matplotlib.pyplot as plt\n",
        "\n",
        "# Add directory where you install PyMRST\n",
        "import sys\n",
        "sys.path.append(\"/content/pyMRST\") \n",
        "\n",
        "import pymrst\n",
        "from pymrst_units import *"
      ],
      "execution_count": 2,
      "outputs": []
    },
    {
      "cell_type": "code",
      "metadata": {
        "id": "1OIu4smY9jqx"
      },
      "source": [
        "# Setup PyMRST (Takes about 3 minutes)\n",
        "pymrst.setup()"
      ],
      "execution_count": 3,
      "outputs": []
    },
    {
      "cell_type": "code",
      "metadata": {
        "id": "ElR0G3Olo0zc"
      },
      "source": [
        "# Geometry\n",
        "nx, ny, nz = 30, 20, 10\n",
        "lx, ly, lz = 200, 200, 50\n",
        "\n",
        "# Reservoir property                                         \n",
        "poro = dict({\"type\": \"heterogeneous\", \n",
        "             \"field\": \"gaussian\", \n",
        "             \"min\": 0.2, \"max\": 0.4, \"std\": 2.5})\n",
        "\n",
        "k = dict({\"type\": \"heterogeneous\", \n",
        "          \"field\": \"kozeny\"})\n",
        "\n",
        "ntg = dict({\"type\": \"heterogeneous\", \n",
        "            \"field\": \"lognorm\", \n",
        "            \"min\": 0.4, \"max\": 0.6})\n",
        "\n",
        "# Rock property\n",
        "rock = dict({\"c\": 1e-6*(1/1e+5), # Rock compressibility at ref pressure, 1/bar to 1/Pa\n",
        "             \"p_r\": 200*1e+5}) # Reference pressure, bar to Pa\n",
        "\n",
        "# Fluid property: 1-phase oil\n",
        "fluid = dict({\"type\": \"oil\", \n",
        "              \"mu\": 5 * 0.001, # cp to Pa.s \n",
        "              \"rho_r\": 850, # Density at reference pressure\n",
        "              \"rhoS\": 750, # Density on the surface\n",
        "              \"p_r\": 200 * 1E+5, # Reference pressure, bar to Pa\n",
        "              \"c\": 1e-3*(1/1E+5)}) # Fluid compressibility, 1/bar to 1/Pa \n",
        "\n",
        "# Boundary \n",
        "bc_front = dict({\"type\": \"fluxside\", \"value\": 50 * 1.84e-6}) # bbl/d to m3/s\n",
        "bc_back = dict({\"type\": \"fluxside\", \"value\": 0})\n",
        "bc_left = dict({\"type\": \"fluxside\", \"value\": 100 * 1.1574e-5}) # m3/d to m3/s\n",
        "bc_right = dict({\"type\": \"pside\", \"value\": 100 * 1e+5}) # bar to Pa\n",
        "\n",
        "# Well\n",
        "# cell_loc1 = np.concatenate((np.arange(311,381+10,10), np.arange(411,481+10,10),\n",
        "#                             np.arange(412,482+10,10), np.arange(312,382+10,10), \n",
        "#                             np.array([491,391])))\n",
        "\n",
        "# well = dict({\"cell_loc\": [cell_loc1],\n",
        "#              \"type\": [\"bhp\"],\n",
        "#              \"value\": [100*1e5],\n",
        "#              \"radius\": [.1],\n",
        "#              \"skin\": [0],\n",
        "#              \"direction\": [\"y\"]})\n",
        "\n",
        "cell_loc1 = np.arange(10+60, nx*ny*nz, nx*ny)\n",
        "\n",
        "well = dict({\"cell_loc\": [cell_loc1], \n",
        "             \"type\": [\"bhp\"], \n",
        "             \"value\": [100*1e5], # bar to Pa \n",
        "             \"radius\": [.1],\n",
        "             \"skin\": [0], \n",
        "             \"direction\": [None]}) \n",
        "\n",
        "# Time step\n",
        "numSteps, totTime = 52, 365\n",
        "steps = [2, 5, 10, 20]"
      ],
      "execution_count": 4,
      "outputs": []
    },
    {
      "cell_type": "code",
      "metadata": {
        "id": "WZb-gL8AjXH4"
      },
      "source": [
        "# Execute function\n",
        "pymrst.write_input(nx, ny, nz, lx, ly, lz, poro, k, rock, fluid, well, \n",
        "                   bc_front, bc_back, bc_left, bc_right, numSteps, totTime, steps)"
      ],
      "execution_count": 5,
      "outputs": []
    },
    {
      "cell_type": "code",
      "metadata": {
        "id": "LwKby0wWcFoO"
      },
      "source": [
        "# def oil_1phase():\n",
        "#   \"\"\"\n",
        "#   MRST Slightly Compressible Oil Simulation (Constant Viscosity over Pressure)\n",
        "#   \"\"\"\n",
        "#   import oct2py as op\n",
        "#   # Execute simulation program \"oil_1phase.m\"\n",
        "#   # After executed, new .mat files (that contains PRESSURE, PORO, PERM result)\n",
        "#   # is created inside new directory \"result_oil_1phase\"\n",
        "#   # !octave -W /content/pyMRST/oil_1phase.m\n",
        "#   octave = op.Oct2Py()\n",
        "#   octave.run(\"/content/pyMRST/oil_1phase.m\")"
      ],
      "execution_count": 6,
      "outputs": []
    },
    {
      "cell_type": "code",
      "metadata": {
        "colab": {
          "base_uri": "https://localhost:8080/"
        },
        "id": "yA3QfY2ycoZ_",
        "outputId": "629af601-f1e5-4b91-a50e-4edd927cc772"
      },
      "source": [
        "# Execute simulator\n",
        "# Simulator results are added in new directory \"result_oil_1phase\"\n",
        "pymrst.oil_1phase()"
      ],
      "execution_count": 7,
      "outputs": [
        {
          "output_type": "stream",
          "text": [
            "warning: function /content/mrst-core/utils/mex/md5sum.m shadows a core library function\n",
            "\n",
            "Time step 1: Time 0.00 -> 7.02 days\n",
            "  Iteration   1:  Res = 1.0021e+07\n",
            "  Iteration   2:  Res = 2.8867e-02\n",
            "  Iteration   3:  Res = 2.0742e-05\n",
            "  Iteration   4:  Res = 8.9843e-12\n",
            "\n",
            "Time step 2: Time 7.02 -> 14.04 days\n",
            "  Iteration   1:  Res = 1.1890e-01\n",
            "  Iteration   2:  Res = 8.0079e-04\n",
            "  Iteration   3:  Res = 4.6047e-08\n",
            "\n",
            "Time step 3: Time 14.04 -> 21.06 days\n",
            "  Iteration   1:  Res = 7.5714e-02\n",
            "  Iteration   2:  Res = 3.2365e-04\n",
            "  Iteration   3:  Res = 6.2338e-09\n",
            "\n",
            "Time step 4: Time 21.06 -> 28.08 days\n",
            "  Iteration   1:  Res = 6.4646e-02\n",
            "  Iteration   2:  Res = 2.1293e-04\n",
            "  Iteration   3:  Res = 2.2391e-09\n",
            "\n",
            "Time step 5: Time 28.08 -> 35.10 days\n",
            "  Iteration   1:  Res = 5.8855e-02\n",
            "  Iteration   2:  Res = 1.7235e-04\n",
            "  Iteration   3:  Res = 1.3843e-09\n",
            "\n",
            "Time step 6: Time 35.10 -> 42.12 days\n",
            "  Iteration   1:  Res = 5.4407e-02\n",
            "  Iteration   2:  Res = 1.4731e-04\n",
            "  Iteration   3:  Res = 1.0143e-09\n",
            "\n",
            "Time step 7: Time 42.12 -> 49.13 days\n",
            "  Iteration   1:  Res = 5.0478e-02\n",
            "  Iteration   2:  Res = 1.2742e-04\n",
            "  Iteration   3:  Res = 7.6820e-10\n",
            "\n",
            "Time step 8: Time 49.13 -> 56.15 days\n",
            "  Iteration   1:  Res = 4.6877e-02\n",
            "  Iteration   2:  Res = 1.1048e-04\n",
            "  Iteration   3:  Res = 5.8325e-10\n",
            "\n",
            "Time step 9: Time 56.15 -> 63.17 days\n",
            "  Iteration   1:  Res = 4.3543e-02\n",
            "  Iteration   2:  Res = 9.5794e-05\n",
            "  Iteration   3:  Res = 4.4178e-10\n",
            "\n",
            "Time step 10: Time 63.17 -> 70.19 days\n",
            "  Iteration   1:  Res = 4.0451e-02\n",
            "  Iteration   2:  Res = 8.3042e-05\n",
            "  Iteration   3:  Res = 3.3385e-10\n",
            "\n",
            "Time step 11: Time 70.19 -> 77.21 days\n",
            "  Iteration   1:  Res = 3.7579e-02\n",
            "  Iteration   2:  Res = 7.1967e-05\n",
            "  Iteration   3:  Res = 2.5186e-10\n",
            "\n",
            "Time step 12: Time 77.21 -> 84.23 days\n",
            "  Iteration   1:  Res = 3.4913e-02\n",
            "  Iteration   2:  Res = 6.2353e-05\n",
            "  Iteration   3:  Res = 1.8979e-10\n",
            "\n",
            "Time step 13: Time 84.23 -> 91.25 days\n",
            "  Iteration   1:  Res = 3.2437e-02\n",
            "  Iteration   2:  Res = 5.4012e-05\n",
            "  Iteration   3:  Res = 1.4288e-10\n",
            "\n",
            "Time step 14: Time 91.25 -> 98.27 days\n",
            "  Iteration   1:  Res = 3.0138e-02\n",
            "  Iteration   2:  Res = 4.6777e-05\n",
            "  Iteration   3:  Res = 1.0749e-10\n",
            "\n",
            "Time step 15: Time 98.27 -> 105.29 days\n",
            "  Iteration   1:  Res = 2.8002e-02\n",
            "  Iteration   2:  Res = 4.0505e-05\n",
            "  Iteration   3:  Res = 8.0820e-11\n",
            "\n",
            "Time step 16: Time 105.29 -> 112.31 days\n",
            "  Iteration   1:  Res = 2.6018e-02\n",
            "  Iteration   2:  Res = 3.5068e-05\n",
            "  Iteration   3:  Res = 6.0733e-11\n",
            "\n",
            "Time step 17: Time 112.31 -> 119.33 days\n",
            "  Iteration   1:  Res = 2.4175e-02\n",
            "  Iteration   2:  Res = 3.0356e-05\n",
            "  Iteration   3:  Res = 4.5616e-11\n",
            "\n",
            "Time step 18: Time 119.33 -> 126.35 days\n",
            "  Iteration   1:  Res = 2.2464e-02\n",
            "  Iteration   2:  Res = 2.6273e-05\n",
            "  Iteration   3:  Res = 3.4246e-11\n",
            "\n",
            "Time step 19: Time 126.35 -> 133.37 days\n",
            "  Iteration   1:  Res = 2.0873e-02\n",
            "  Iteration   2:  Res = 2.2737e-05\n",
            "  Iteration   3:  Res = 2.5700e-11\n",
            "\n",
            "Time step 20: Time 133.37 -> 140.38 days\n",
            "  Iteration   1:  Res = 1.9396e-02\n",
            "  Iteration   2:  Res = 1.9674e-05\n",
            "  Iteration   3:  Res = 1.9279e-11\n",
            "\n",
            "Time step 21: Time 140.38 -> 147.40 days\n",
            "  Iteration   1:  Res = 1.8024e-02\n",
            "  Iteration   2:  Res = 1.7022e-05\n",
            "  Iteration   3:  Res = 1.4457e-11\n",
            "\n",
            "Time step 22: Time 147.40 -> 154.42 days\n",
            "  Iteration   1:  Res = 1.6749e-02\n",
            "  Iteration   2:  Res = 1.4726e-05\n",
            "  Iteration   3:  Res = 1.0838e-11\n",
            "\n",
            "Time step 23: Time 154.42 -> 161.44 days\n",
            "  Iteration   1:  Res = 1.5564e-02\n",
            "  Iteration   2:  Res = 1.2738e-05\n",
            "  Iteration   3:  Res = 8.1220e-12\n",
            "\n",
            "Time step 24: Time 161.44 -> 168.46 days\n",
            "  Iteration   1:  Res = 1.4463e-02\n",
            "  Iteration   2:  Res = 1.1018e-05\n",
            "  Iteration   3:  Res = 6.0850e-12\n",
            "\n",
            "Time step 25: Time 168.46 -> 175.48 days\n",
            "  Iteration   1:  Res = 1.3441e-02\n",
            "  Iteration   2:  Res = 9.5289e-06\n",
            "\n",
            "Time step 26: Time 175.48 -> 182.50 days\n",
            "  Iteration   1:  Res = 1.2491e-02\n",
            "  Iteration   2:  Res = 8.2406e-06\n",
            "\n",
            "Time step 27: Time 182.50 -> 189.52 days\n",
            "  Iteration   1:  Res = 1.1608e-02\n",
            "  Iteration   2:  Res = 7.1259e-06\n",
            "\n",
            "Time step 28: Time 189.52 -> 196.54 days\n",
            "  Iteration   1:  Res = 1.0787e-02\n",
            "  Iteration   2:  Res = 6.1616e-06\n",
            "\n",
            "Time step 29: Time 196.54 -> 203.56 days\n",
            "  Iteration   1:  Res = 1.0025e-02\n",
            "  Iteration   2:  Res = 5.3275e-06\n",
            "\n",
            "Time step 30: Time 203.56 -> 210.58 days\n",
            "  Iteration   1:  Res = 9.3166e-03\n",
            "  Iteration   2:  Res = 4.6060e-06\n",
            "\n",
            "Time step 31: Time 210.58 -> 217.60 days\n",
            "  Iteration   1:  Res = 8.6584e-03\n",
            "  Iteration   2:  Res = 3.9819e-06\n",
            "\n",
            "Time step 32: Time 217.60 -> 224.62 days\n",
            "  Iteration   1:  Res = 8.0467e-03\n",
            "  Iteration   2:  Res = 3.4423e-06\n",
            "\n",
            "Time step 33: Time 224.62 -> 231.63 days\n",
            "  Iteration   1:  Res = 7.4783e-03\n",
            "  Iteration   2:  Res = 2.9756e-06\n",
            "\n",
            "Time step 34: Time 231.63 -> 238.65 days\n",
            "  Iteration   1:  Res = 6.9501e-03\n",
            "  Iteration   2:  Res = 2.5721e-06\n",
            "\n",
            "Time step 35: Time 238.65 -> 245.67 days\n",
            "  Iteration   1:  Res = 6.4593e-03\n",
            "  Iteration   2:  Res = 2.2232e-06\n",
            "\n",
            "Time step 36: Time 245.67 -> 252.69 days\n",
            "  Iteration   1:  Res = 6.0031e-03\n",
            "  Iteration   2:  Res = 1.9216e-06\n",
            "\n",
            "Time step 37: Time 252.69 -> 259.71 days\n",
            "  Iteration   1:  Res = 5.5792e-03\n",
            "  Iteration   2:  Res = 1.6608e-06\n",
            "\n",
            "Time step 38: Time 259.71 -> 266.73 days\n",
            "  Iteration   1:  Res = 5.1852e-03\n",
            "  Iteration   2:  Res = 1.4354e-06\n",
            "\n",
            "Time step 39: Time 266.73 -> 273.75 days\n",
            "  Iteration   1:  Res = 4.8191e-03\n",
            "  Iteration   2:  Res = 1.2405e-06\n",
            "\n",
            "Time step 40: Time 273.75 -> 280.77 days\n",
            "  Iteration   1:  Res = 4.4789e-03\n",
            "  Iteration   2:  Res = 1.0721e-06\n",
            "\n",
            "Time step 41: Time 280.77 -> 287.79 days\n",
            "  Iteration   1:  Res = 4.1627e-03\n",
            "  Iteration   2:  Res = 9.2645e-07\n",
            "\n",
            "Time step 42: Time 287.79 -> 294.81 days\n",
            "  Iteration   1:  Res = 3.8688e-03\n",
            "  Iteration   2:  Res = 8.0061e-07\n",
            "\n",
            "Time step 43: Time 294.81 -> 301.83 days\n",
            "  Iteration   1:  Res = 3.5957e-03\n",
            "  Iteration   2:  Res = 6.9184e-07\n",
            "\n",
            "Time step 44: Time 301.83 -> 308.85 days\n",
            "  Iteration   1:  Res = 3.3419e-03\n",
            "  Iteration   2:  Res = 5.9784e-07\n",
            "\n",
            "Time step 45: Time 308.85 -> 315.87 days\n",
            "  Iteration   1:  Res = 3.1060e-03\n",
            "  Iteration   2:  Res = 5.1660e-07\n",
            "\n",
            "Time step 46: Time 315.87 -> 322.88 days\n",
            "  Iteration   1:  Res = 2.8867e-03\n",
            "  Iteration   2:  Res = 4.4639e-07\n",
            "\n",
            "Time step 47: Time 322.88 -> 329.90 days\n",
            "  Iteration   1:  Res = 2.6830e-03\n",
            "  Iteration   2:  Res = 3.8571e-07\n",
            "\n",
            "Time step 48: Time 329.90 -> 336.92 days\n",
            "  Iteration   1:  Res = 2.4936e-03\n",
            "  Iteration   2:  Res = 3.3328e-07\n",
            "\n",
            "Time step 49: Time 336.92 -> 343.94 days\n",
            "  Iteration   1:  Res = 2.3176e-03\n",
            "  Iteration   2:  Res = 2.8797e-07\n",
            "\n",
            "Time step 50: Time 343.94 -> 350.96 days\n",
            "  Iteration   1:  Res = 2.1540e-03\n",
            "  Iteration   2:  Res = 2.4882e-07\n",
            "\n",
            "Time step 51: Time 350.96 -> 357.98 days\n",
            "  Iteration   1:  Res = 2.0020e-03\n",
            "  Iteration   2:  Res = 2.1498e-07\n",
            "\n",
            "Time step 52: Time 357.98 -> 365.00 days\n",
            "  Iteration   1:  Res = 1.8607e-03\n",
            "  Iteration   2:  Res = 1.8575e-07\n",
            "ans = 1\n"
          ],
          "name": "stdout"
        }
      ]
    },
    {
      "cell_type": "code",
      "metadata": {
        "colab": {
          "base_uri": "https://localhost:8080/",
          "height": 523
        },
        "id": "4_1aPl_EGXYV",
        "outputId": "4f3bf557-9893-41f2-ec2a-18c887bcdf84"
      },
      "source": [
        "# Specify dimension\n",
        "dimension = (nx,ny,nz)\n",
        "\n",
        "# Input for plots\n",
        "plane, position = \"xy\", 2\n",
        "\n",
        "numSteps, totTime = 52, 365 # day\n",
        "steps = [2, 5, 10, 20]\n",
        "\n",
        "# Plot pressure for every timestep\n",
        "plt.figure(figsize=(10,8))\n",
        "\n",
        "for i in range(len(steps)):\n",
        "  directory = \"/content/result_oil_1phase/\"\n",
        "  filename = \"pressure{}.mat\".format(steps[i])\n",
        "\n",
        "  # Get cell data \n",
        "  cube = pymrst.getCellData(directory, filename, dimension=(nx,ny,nz))\n",
        "\n",
        "  # Convert to barsa\n",
        "  cube = cube/barsa()\n",
        "\n",
        "  # Plot for every timestep\n",
        "  day = totTime / numSteps * steps[i]\n",
        "  plt.subplot(2,2,i+1)\n",
        "  pymrst.plotCellData(cube, plane, position, cmap=\"plasma\")\n",
        "  plt.title(\"Pressure on {} Plane at Slice {} (Day {:.1f})\".format(plane, position, day),\n",
        "            size=15, pad=15)  \n",
        "\n",
        "plt.tight_layout(1.7)\n",
        "plt.show()"
      ],
      "execution_count": 8,
      "outputs": [
        {
          "output_type": "display_data",
          "data": {
            "image/png": "[encoded data removed]",
            "text/plain": [
              "<Figure size 720x576 with 8 Axes>"
            ]
          },
          "metadata": {
            "tags": [],
            "needs_background": "light"
          }
        }
      ]
    },
    {
      "cell_type": "code",
      "metadata": {
        "colab": {
          "base_uri": "https://localhost:8080/",
          "height": 295
        },
        "id": "ZILdm_WLE-vq",
        "outputId": "e3b5467a-bb9a-4c5e-ee00-c8ba3a7f59ef"
      },
      "source": [
        "from pymrst_units import *\n",
        "\n",
        "# Plot well solutions\n",
        "directory = \"/content/result_oil_1phase/\"\n",
        "\n",
        "time = pymrst.getWellSol(directory, \"time.mat\") / day() \n",
        "qo = pymrst.getWellSol(directory, \"qo.mat\") / (stb()/day())\n",
        "Pwf = pymrst.getWellSol(directory, \"Pwf.mat\") / barsa() # convert to barsa\n",
        "\n",
        "plt.figure(figsize=(10,4))\n",
        "\n",
        "plt.subplot(1,2,1)\n",
        "plt.plot(time, Pwf, \".-\", color=\"purple\")\n",
        "plt.grid()\n",
        "plt.title(\"Pwf\")\n",
        "plt.xlabel(\"Day\"); plt.ylabel(\"Pwf [bar]\")\n",
        "plt.xlim(0,365)\n",
        "\n",
        "plt.subplot(1,2,2)\n",
        "plt.step(time, qo, color=\"green\")\n",
        "plt.grid()\n",
        "plt.title(\"Oil rate\")\n",
        "plt.xlabel(\"Day\"); plt.ylabel(\"Qo [STB/D]\")\n",
        "plt.xlim(0,365)\n",
        "\n",
        "plt.show()"
      ],
      "execution_count": 9,
      "outputs": [
        {
          "output_type": "display_data",
          "data": {
            "image/png": "[encoded data removed]",
            "text/plain": [
              "<Figure size 720x288 with 2 Axes>"
            ]
          },
          "metadata": {
            "tags": [],
            "needs_background": "light"
          }
        }
      ]
    }
  ]
}